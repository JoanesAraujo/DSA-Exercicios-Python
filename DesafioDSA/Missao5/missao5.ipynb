{
 "cells": [
  {
   "cell_type": "markdown",
   "metadata": {},
   "source": [
    "# <font color='blue'>Data Science Academy - Python Fundamentos - Capítulo 7</font>\n",
    "\n",
    "## Download: http://github.com/dsacademybr"
   ]
  },
  {
   "cell_type": "code",
   "execution_count": 1,
   "metadata": {},
   "outputs": [
    {
     "name": "stdout",
     "output_type": "stream",
     "text": [
      "Versão da Linguagem Python Usada Neste Jupyter Notebook: 3.9.7\n"
     ]
    }
   ],
   "source": [
    "# Versão da Linguagem Python\n",
    "from platform import python_version\n",
    "print('Versão da Linguagem Python Usada Neste Jupyter Notebook:', python_version())"
   ]
  },
  {
   "cell_type": "markdown",
   "metadata": {},
   "source": [
    "## Missão: Analisar o Comportamento de Compra de Consumidores."
   ]
  },
  {
   "cell_type": "markdown",
   "metadata": {},
   "source": [
    "## Nível de Dificuldade: Alto"
   ]
  },
  {
   "cell_type": "markdown",
   "metadata": {},
   "source": [
    "Você recebeu a tarefa de analisar os dados de compras de um web site! Os dados estão no formato JSON e disponíveis junto com este notebook.\n",
    "\n",
    "No site, cada usuário efetua login usando sua conta pessoal e pode adquirir produtos à medida que navega pela lista de produtos oferecidos. Cada produto possui um valor de venda. Dados de idade e sexo de cada usuário foram coletados e estão fornecidos no arquivo JSON.\n",
    "\n",
    "Seu trabalho é entregar uma análise de comportamento de compra dos consumidores. Esse é um tipo de atividade comum realizado por Cientistas de Dados e o resultado deste trabalho pode ser usado, por exemplo, para alimentar um modelo de Machine Learning e fazer previsões sobre comportamentos futuros.\n",
    "\n",
    "Mas nesta missão você vai analisar o comportamento de compra dos consumidores usando o pacote Pandas da linguagem Python e seu relatório final deve incluir cada um dos seguintes itens:\n",
    "\n",
    "** Contagem de Consumidores **\n",
    "\n",
    "* Número total de consumidores\n",
    "\n",
    "\n",
    "** Análise Geral de Compras **\n",
    "\n",
    "* Número de itens exclusivos\n",
    "* Preço médio de compra\n",
    "* Número total de compras\n",
    "* Rendimento total\n",
    "\n",
    "\n",
    "** Informações Demográficas Por Gênero **\n",
    "\n",
    "* Porcentagem e contagem de compradores masculinos\n",
    "* Porcentagem e contagem de compradores do sexo feminino\n",
    "* Porcentagem e contagem de outros / não divulgados\n",
    "\n",
    "\n",
    "** Análise de Compras Por Gênero **\n",
    "\n",
    "* Número de compras\n",
    "* Preço médio de compra\n",
    "* Valor Total de Compra\n",
    "* Compras for faixa etária\n",
    "\n",
    "\n",
    "** Identifique os 5 principais compradores pelo valor total de compra e, em seguida, liste (em uma tabela): **\n",
    "\n",
    "* Login\n",
    "* Número de compras\n",
    "* Preço médio de compra\n",
    "* Valor Total de Compra\n",
    "* Itens mais populares\n",
    "\n",
    "\n",
    "** Identifique os 5 itens mais populares por contagem de compras e, em seguida, liste (em uma tabela): **\n",
    "\n",
    "* ID do item\n",
    "* Nome do item\n",
    "* Número de compras\n",
    "* Preço do item\n",
    "* Valor Total de Compra\n",
    "* Itens mais lucrativos\n",
    "\n",
    "\n",
    "** Identifique os 5 itens mais lucrativos pelo valor total de compra e, em seguida, liste (em uma tabela): **\n",
    "\n",
    "* ID do item\n",
    "* Nome do item\n",
    "* Número de compras\n",
    "* Preço do item\n",
    "* Valor Total de Compra\n",
    "\n",
    "\n",
    "** Como considerações finais: **\n",
    "\n",
    "* Seu script deve funcionar para o conjunto de dados fornecido.\n",
    "* Você deve usar a Biblioteca Pandas e o Jupyter Notebook.\n"
   ]
  },
  {
   "cell_type": "code",
   "execution_count": 2,
   "metadata": {},
   "outputs": [],
   "source": [
    "# Imports\n",
    "import pandas as pd\n",
    "import numpy as np"
   ]
  },
  {
   "cell_type": "code",
   "execution_count": 3,
   "metadata": {},
   "outputs": [
    {
     "data": {
      "text/html": [
       "<div>\n",
       "<style scoped>\n",
       "    .dataframe tbody tr th:only-of-type {\n",
       "        vertical-align: middle;\n",
       "    }\n",
       "\n",
       "    .dataframe tbody tr th {\n",
       "        vertical-align: top;\n",
       "    }\n",
       "\n",
       "    .dataframe thead th {\n",
       "        text-align: right;\n",
       "    }\n",
       "</style>\n",
       "<table border=\"1\" class=\"dataframe\">\n",
       "  <thead>\n",
       "    <tr style=\"text-align: right;\">\n",
       "      <th></th>\n",
       "      <th>Login</th>\n",
       "      <th>Idade</th>\n",
       "      <th>Sexo</th>\n",
       "      <th>Item ID</th>\n",
       "      <th>Nome do Item</th>\n",
       "      <th>Valor</th>\n",
       "    </tr>\n",
       "  </thead>\n",
       "  <tbody>\n",
       "    <tr>\n",
       "      <th>0</th>\n",
       "      <td>Aelalis34</td>\n",
       "      <td>38</td>\n",
       "      <td>Masculino</td>\n",
       "      <td>165</td>\n",
       "      <td>Bone Crushing Silver Skewer</td>\n",
       "      <td>3.37</td>\n",
       "    </tr>\n",
       "    <tr>\n",
       "      <th>1</th>\n",
       "      <td>Eolo46</td>\n",
       "      <td>21</td>\n",
       "      <td>Masculino</td>\n",
       "      <td>119</td>\n",
       "      <td>Stormbringer, Dark Blade of Ending Misery</td>\n",
       "      <td>2.32</td>\n",
       "    </tr>\n",
       "    <tr>\n",
       "      <th>2</th>\n",
       "      <td>Assastnya25</td>\n",
       "      <td>34</td>\n",
       "      <td>Masculino</td>\n",
       "      <td>174</td>\n",
       "      <td>Primitive Blade</td>\n",
       "      <td>2.46</td>\n",
       "    </tr>\n",
       "    <tr>\n",
       "      <th>3</th>\n",
       "      <td>Pheusrical25</td>\n",
       "      <td>21</td>\n",
       "      <td>Masculino</td>\n",
       "      <td>92</td>\n",
       "      <td>Final Critic</td>\n",
       "      <td>1.36</td>\n",
       "    </tr>\n",
       "    <tr>\n",
       "      <th>4</th>\n",
       "      <td>Aela59</td>\n",
       "      <td>23</td>\n",
       "      <td>Masculino</td>\n",
       "      <td>63</td>\n",
       "      <td>Stormfury Mace</td>\n",
       "      <td>1.27</td>\n",
       "    </tr>\n",
       "  </tbody>\n",
       "</table>\n",
       "</div>"
      ],
      "text/plain": [
       "          Login  Idade       Sexo  Item ID  \\\n",
       "0     Aelalis34     38  Masculino      165   \n",
       "1        Eolo46     21  Masculino      119   \n",
       "2   Assastnya25     34  Masculino      174   \n",
       "3  Pheusrical25     21  Masculino       92   \n",
       "4        Aela59     23  Masculino       63   \n",
       "\n",
       "                                Nome do Item  Valor  \n",
       "0                Bone Crushing Silver Skewer   3.37  \n",
       "1  Stormbringer, Dark Blade of Ending Misery   2.32  \n",
       "2                            Primitive Blade   2.46  \n",
       "3                               Final Critic   1.36  \n",
       "4                             Stormfury Mace   1.27  "
      ]
     },
     "execution_count": 3,
     "metadata": {},
     "output_type": "execute_result"
    }
   ],
   "source": [
    "# Carrega o arquivo\n",
    "load_file = \"dados_compras.json\"\n",
    "purchase_file = pd.read_json(load_file, orient = \"records\")\n",
    "purchase_file.head()"
   ]
  },
  {
   "cell_type": "markdown",
   "metadata": {},
   "source": [
    "## Informações Sobre os Consumidores"
   ]
  },
  {
   "cell_type": "code",
   "execution_count": 10,
   "metadata": {
    "scrolled": true
   },
   "outputs": [
    {
     "data": {
      "text/html": [
       "<div>\n",
       "<style scoped>\n",
       "    .dataframe tbody tr th:only-of-type {\n",
       "        vertical-align: middle;\n",
       "    }\n",
       "\n",
       "    .dataframe tbody tr th {\n",
       "        vertical-align: top;\n",
       "    }\n",
       "\n",
       "    .dataframe thead th {\n",
       "        text-align: right;\n",
       "    }\n",
       "</style>\n",
       "<table border=\"1\" class=\"dataframe\">\n",
       "  <thead>\n",
       "    <tr style=\"text-align: right;\">\n",
       "      <th></th>\n",
       "      <th>Login</th>\n",
       "      <th>Idade</th>\n",
       "      <th>Sexo</th>\n",
       "    </tr>\n",
       "  </thead>\n",
       "  <tbody>\n",
       "    <tr>\n",
       "      <th>0</th>\n",
       "      <td>Aelalis34</td>\n",
       "      <td>38</td>\n",
       "      <td>Masculino</td>\n",
       "    </tr>\n",
       "    <tr>\n",
       "      <th>1</th>\n",
       "      <td>Eolo46</td>\n",
       "      <td>21</td>\n",
       "      <td>Masculino</td>\n",
       "    </tr>\n",
       "    <tr>\n",
       "      <th>2</th>\n",
       "      <td>Assastnya25</td>\n",
       "      <td>34</td>\n",
       "      <td>Masculino</td>\n",
       "    </tr>\n",
       "    <tr>\n",
       "      <th>3</th>\n",
       "      <td>Pheusrical25</td>\n",
       "      <td>21</td>\n",
       "      <td>Masculino</td>\n",
       "    </tr>\n",
       "    <tr>\n",
       "      <th>4</th>\n",
       "      <td>Aela59</td>\n",
       "      <td>23</td>\n",
       "      <td>Masculino</td>\n",
       "    </tr>\n",
       "    <tr>\n",
       "      <th>...</th>\n",
       "      <td>...</td>\n",
       "      <td>...</td>\n",
       "      <td>...</td>\n",
       "    </tr>\n",
       "    <tr>\n",
       "      <th>775</th>\n",
       "      <td>Eural50</td>\n",
       "      <td>22</td>\n",
       "      <td>Masculino</td>\n",
       "    </tr>\n",
       "    <tr>\n",
       "      <th>776</th>\n",
       "      <td>Lirtossa78</td>\n",
       "      <td>14</td>\n",
       "      <td>Masculino</td>\n",
       "    </tr>\n",
       "    <tr>\n",
       "      <th>777</th>\n",
       "      <td>Tillyrin30</td>\n",
       "      <td>20</td>\n",
       "      <td>Masculino</td>\n",
       "    </tr>\n",
       "    <tr>\n",
       "      <th>778</th>\n",
       "      <td>Quelaton80</td>\n",
       "      <td>20</td>\n",
       "      <td>Masculino</td>\n",
       "    </tr>\n",
       "    <tr>\n",
       "      <th>779</th>\n",
       "      <td>Alim85</td>\n",
       "      <td>23</td>\n",
       "      <td>Feminino</td>\n",
       "    </tr>\n",
       "  </tbody>\n",
       "</table>\n",
       "<p>780 rows × 3 columns</p>\n",
       "</div>"
      ],
      "text/plain": [
       "            Login  Idade       Sexo\n",
       "0       Aelalis34     38  Masculino\n",
       "1          Eolo46     21  Masculino\n",
       "2     Assastnya25     34  Masculino\n",
       "3    Pheusrical25     21  Masculino\n",
       "4          Aela59     23  Masculino\n",
       "..            ...    ...        ...\n",
       "775       Eural50     22  Masculino\n",
       "776    Lirtossa78     14  Masculino\n",
       "777    Tillyrin30     20  Masculino\n",
       "778    Quelaton80     20  Masculino\n",
       "779        Alim85     23   Feminino\n",
       "\n",
       "[780 rows x 3 columns]"
      ]
     },
     "metadata": {},
     "output_type": "display_data"
    }
   ],
   "source": [
    "# Implemente aqui sua solução\n",
    "consumidores_info = purchase_file.loc[:, ['Login', 'Idade', 'Sexo']]\n",
    "display(consumidores_info)"
   ]
  },
  {
   "cell_type": "code",
   "execution_count": 45,
   "metadata": {},
   "outputs": [
    {
     "data": {
      "text/plain": [
       "573"
      ]
     },
     "execution_count": 45,
     "metadata": {},
     "output_type": "execute_result"
    }
   ],
   "source": [
    "# Limpeza dos dados e remoção de duplicatas\n",
    "consumidores_info = consumidores_info.drop_duplicates()\n",
    "player_count = consumidores_info.count()[0]\n",
    "player_count"
   ]
  },
  {
   "cell_type": "markdown",
   "metadata": {},
   "source": [
    "## Análise Geral de Compras"
   ]
  },
  {
   "cell_type": "code",
   "execution_count": 30,
   "metadata": {},
   "outputs": [
    {
     "data": {
      "text/html": [
       "<div>\n",
       "<style scoped>\n",
       "    .dataframe tbody tr th:only-of-type {\n",
       "        vertical-align: middle;\n",
       "    }\n",
       "\n",
       "    .dataframe tbody tr th {\n",
       "        vertical-align: top;\n",
       "    }\n",
       "\n",
       "    .dataframe thead th {\n",
       "        text-align: right;\n",
       "    }\n",
       "</style>\n",
       "<table border=\"1\" class=\"dataframe\">\n",
       "  <thead>\n",
       "    <tr style=\"text-align: right;\">\n",
       "      <th></th>\n",
       "      <th>Número de Itens Únicos</th>\n",
       "      <th>Preço Médio</th>\n",
       "      <th>Número de Compras</th>\n",
       "      <th>Total de Vendas</th>\n",
       "    </tr>\n",
       "  </thead>\n",
       "  <tbody>\n",
       "    <tr>\n",
       "      <th>0</th>\n",
       "      <td>183</td>\n",
       "      <td>$2.93</td>\n",
       "      <td>780</td>\n",
       "      <td>$2,286.33</td>\n",
       "    </tr>\n",
       "  </tbody>\n",
       "</table>\n",
       "</div>"
      ],
      "text/plain": [
       "   Número de Itens Únicos Preço Médio  Número de Compras Total de Vendas\n",
       "0                     183       $2.93                780       $2,286.33"
      ]
     },
     "execution_count": 30,
     "metadata": {},
     "output_type": "execute_result"
    }
   ],
   "source": [
    "# Implemente aqui sua solução\n",
    "avg_compras = purchase_file['Valor'].mean()\n",
    "total_item_price = purchase_file['Valor'].sum()\n",
    "total_item_count = purchase_file['Valor'].count()\n",
    "item_id = len(purchase_file['Item ID'].unique())\n",
    "\n",
    "df1 = pd.DataFrame({\"Número de Itens Únicos\" : item_id,\n",
    "                                     \"Número de Compras\" : total_item_count, \n",
    "                                     \"Total de Vendas\" : total_item_price, \n",
    "                                     \"Preço Médio\" : [avg_compras]})\n",
    "\n",
    "df1 = df1.round(2)\n",
    "df1 [\"Preço Médio\"] = df1[\"Preço Médio\"].map(\"${:,.2f}\".format)\n",
    "df1 [\"Total de Vendas\"] = df1[\"Total de Vendas\"].map(\"${:,.2f}\".format)\n",
    "df1 = df1.loc[:, [\"Número de Itens Únicos\", \"Preço Médio\", \"Número de Compras\", \"Total de Vendas\"]]\n",
    "\n",
    "df1\n",
    "\n"
   ]
  },
  {
   "cell_type": "markdown",
   "metadata": {},
   "source": [
    "## Análise Demográfica"
   ]
  },
  {
   "cell_type": "code",
   "execution_count": 43,
   "metadata": {
    "scrolled": false
   },
   "outputs": [
    {
     "data": {
      "text/html": [
       "<div>\n",
       "<style scoped>\n",
       "    .dataframe tbody tr th:only-of-type {\n",
       "        vertical-align: middle;\n",
       "    }\n",
       "\n",
       "    .dataframe tbody tr th {\n",
       "        vertical-align: top;\n",
       "    }\n",
       "\n",
       "    .dataframe thead th {\n",
       "        text-align: right;\n",
       "    }\n",
       "</style>\n",
       "<table border=\"1\" class=\"dataframe\">\n",
       "  <thead>\n",
       "    <tr style=\"text-align: right;\">\n",
       "      <th></th>\n",
       "      <th>Login</th>\n",
       "      <th>Idade</th>\n",
       "      <th>Sexo</th>\n",
       "    </tr>\n",
       "  </thead>\n",
       "  <tbody>\n",
       "    <tr>\n",
       "      <th>0</th>\n",
       "      <td>Aelalis34</td>\n",
       "      <td>38</td>\n",
       "      <td>Masculino</td>\n",
       "    </tr>\n",
       "    <tr>\n",
       "      <th>1</th>\n",
       "      <td>Eolo46</td>\n",
       "      <td>21</td>\n",
       "      <td>Masculino</td>\n",
       "    </tr>\n",
       "    <tr>\n",
       "      <th>2</th>\n",
       "      <td>Assastnya25</td>\n",
       "      <td>34</td>\n",
       "      <td>Masculino</td>\n",
       "    </tr>\n",
       "    <tr>\n",
       "      <th>3</th>\n",
       "      <td>Pheusrical25</td>\n",
       "      <td>21</td>\n",
       "      <td>Masculino</td>\n",
       "    </tr>\n",
       "    <tr>\n",
       "      <th>4</th>\n",
       "      <td>Aela59</td>\n",
       "      <td>23</td>\n",
       "      <td>Masculino</td>\n",
       "    </tr>\n",
       "    <tr>\n",
       "      <th>...</th>\n",
       "      <td>...</td>\n",
       "      <td>...</td>\n",
       "      <td>...</td>\n",
       "    </tr>\n",
       "    <tr>\n",
       "      <th>775</th>\n",
       "      <td>Eural50</td>\n",
       "      <td>22</td>\n",
       "      <td>Masculino</td>\n",
       "    </tr>\n",
       "    <tr>\n",
       "      <th>776</th>\n",
       "      <td>Lirtossa78</td>\n",
       "      <td>14</td>\n",
       "      <td>Masculino</td>\n",
       "    </tr>\n",
       "    <tr>\n",
       "      <th>777</th>\n",
       "      <td>Tillyrin30</td>\n",
       "      <td>20</td>\n",
       "      <td>Masculino</td>\n",
       "    </tr>\n",
       "    <tr>\n",
       "      <th>778</th>\n",
       "      <td>Quelaton80</td>\n",
       "      <td>20</td>\n",
       "      <td>Masculino</td>\n",
       "    </tr>\n",
       "    <tr>\n",
       "      <th>779</th>\n",
       "      <td>Alim85</td>\n",
       "      <td>23</td>\n",
       "      <td>Feminino</td>\n",
       "    </tr>\n",
       "  </tbody>\n",
       "</table>\n",
       "<p>780 rows × 3 columns</p>\n",
       "</div>"
      ],
      "text/plain": [
       "            Login  Idade       Sexo\n",
       "0       Aelalis34     38  Masculino\n",
       "1          Eolo46     21  Masculino\n",
       "2     Assastnya25     34  Masculino\n",
       "3    Pheusrical25     21  Masculino\n",
       "4          Aela59     23  Masculino\n",
       "..            ...    ...        ...\n",
       "775       Eural50     22  Masculino\n",
       "776    Lirtossa78     14  Masculino\n",
       "777    Tillyrin30     20  Masculino\n",
       "778    Quelaton80     20  Masculino\n",
       "779        Alim85     23   Feminino\n",
       "\n",
       "[780 rows x 3 columns]"
      ]
     },
     "execution_count": 43,
     "metadata": {},
     "output_type": "execute_result"
    }
   ],
   "source": [
    "# Implemente aqui sua solução\n",
    "consumidores_info"
   ]
  },
  {
   "cell_type": "code",
   "execution_count": 117,
   "metadata": {},
   "outputs": [],
   "source": [
    "# Cálculos básicos\n",
    "age_bins = [0, 9.99, 14.99, 19.99, 24.99, 29.99, 34.99, 39.99, 999]\n",
    "age_bracket = [\"Menos de 10\", \"10 a 14\", \"15 a 19\", \"20 a 24\", \"25 a 29\", \"30 a 34\", \"35 a 39\", \"Mais de 40\"]\n",
    "\n",
    "purchase_file[\"Range de Idades\"] = pd.cut(purchase_file[\"Idade\"], age_bins, labels=age_bracket)\n",
    "\n",
    "# Cálculos básicos\n",
    "age_demographics_count = purchase_file[\"Range de Idades\"].value_counts()\n",
    "age_demographics_average_item_price = purchase_file.groupby([\"Range de Idades\"]).mean()[\"Valor\"]\n",
    "age_demographics_total_item_price = purchase_file.groupby([\"Range de Idades\"]).sum()[\"Valor\"]\n",
    "age_demographics_percent = (age_demographics_count / player_count) * 100\n",
    "\n",
    "# Dataframe para os resultados\n",
    "age_demographics = pd.DataFrame({\"Contagem\": age_demographics_count, \"%\": age_demographics_percent, \"Valor Unitario\": age_demographics_average_item_price, \"Valor Total de Compra\": age_demographics_total_item_price})\n",
    "\n",
    "# Data Munging\n",
    "age_demographics [\"Valor Unitario\"] = age_demographics[\"Valor Unitario\"].map(\"${:,.2f}\".format)\n",
    "age_demographics [\"Valor Total de Compra\"] = age_demographics[\"Valor Total de Compra\"].map(\"${:,.2f}\".format)\n",
    "age_demographics [\"%\"] = age_demographics[\"%\"].map(\"{:,.2f}%\".format)"
   ]
  },
  {
   "cell_type": "code",
   "execution_count": 118,
   "metadata": {},
   "outputs": [
    {
     "data": {
      "text/html": [
       "<div>\n",
       "<style scoped>\n",
       "    .dataframe tbody tr th:only-of-type {\n",
       "        vertical-align: middle;\n",
       "    }\n",
       "\n",
       "    .dataframe tbody tr th {\n",
       "        vertical-align: top;\n",
       "    }\n",
       "\n",
       "    .dataframe thead th {\n",
       "        text-align: right;\n",
       "    }\n",
       "</style>\n",
       "<table border=\"1\" class=\"dataframe\">\n",
       "  <thead>\n",
       "    <tr style=\"text-align: right;\">\n",
       "      <th></th>\n",
       "      <th>Contagem</th>\n",
       "      <th>%</th>\n",
       "      <th>Valor Unitario</th>\n",
       "      <th>Valor Total de Compra</th>\n",
       "    </tr>\n",
       "  </thead>\n",
       "  <tbody>\n",
       "    <tr>\n",
       "      <th>Menos de 10</th>\n",
       "      <td>28</td>\n",
       "      <td>4.89%</td>\n",
       "      <td>$2.98</td>\n",
       "      <td>$83.46</td>\n",
       "    </tr>\n",
       "    <tr>\n",
       "      <th>10 a 14</th>\n",
       "      <td>35</td>\n",
       "      <td>6.11%</td>\n",
       "      <td>$2.77</td>\n",
       "      <td>$96.95</td>\n",
       "    </tr>\n",
       "    <tr>\n",
       "      <th>15 a 19</th>\n",
       "      <td>133</td>\n",
       "      <td>23.21%</td>\n",
       "      <td>$2.91</td>\n",
       "      <td>$386.42</td>\n",
       "    </tr>\n",
       "    <tr>\n",
       "      <th>20 a 24</th>\n",
       "      <td>336</td>\n",
       "      <td>58.64%</td>\n",
       "      <td>$2.91</td>\n",
       "      <td>$978.77</td>\n",
       "    </tr>\n",
       "    <tr>\n",
       "      <th>25 a 29</th>\n",
       "      <td>125</td>\n",
       "      <td>21.82%</td>\n",
       "      <td>$2.96</td>\n",
       "      <td>$370.33</td>\n",
       "    </tr>\n",
       "    <tr>\n",
       "      <th>30 a 34</th>\n",
       "      <td>64</td>\n",
       "      <td>11.17%</td>\n",
       "      <td>$3.08</td>\n",
       "      <td>$197.25</td>\n",
       "    </tr>\n",
       "    <tr>\n",
       "      <th>35 a 39</th>\n",
       "      <td>42</td>\n",
       "      <td>7.33%</td>\n",
       "      <td>$2.84</td>\n",
       "      <td>$119.40</td>\n",
       "    </tr>\n",
       "    <tr>\n",
       "      <th>Mais de 40</th>\n",
       "      <td>17</td>\n",
       "      <td>2.97%</td>\n",
       "      <td>$3.16</td>\n",
       "      <td>$53.75</td>\n",
       "    </tr>\n",
       "  </tbody>\n",
       "</table>\n",
       "</div>"
      ],
      "text/plain": [
       "             Contagem       % Valor Unitario Valor Total de Compra\n",
       "Menos de 10        28   4.89%          $2.98                $83.46\n",
       "10 a 14            35   6.11%          $2.77                $96.95\n",
       "15 a 19           133  23.21%          $2.91               $386.42\n",
       "20 a 24           336  58.64%          $2.91               $978.77\n",
       "25 a 29           125  21.82%          $2.96               $370.33\n",
       "30 a 34            64  11.17%          $3.08               $197.25\n",
       "35 a 39            42   7.33%          $2.84               $119.40\n",
       "Mais de 40         17   2.97%          $3.16                $53.75"
      ]
     },
     "execution_count": 118,
     "metadata": {},
     "output_type": "execute_result"
    }
   ],
   "source": [
    "# Resultado ordem decrescente\n",
    "age_demographics = age_demographics.sort_index()\n",
    "age_demographics"
   ]
  },
  {
   "cell_type": "markdown",
   "metadata": {},
   "source": [
    "## Informações Demográficas Por Gênero"
   ]
  },
  {
   "cell_type": "code",
   "execution_count": 57,
   "metadata": {},
   "outputs": [],
   "source": [
    "# Implemente aqui sua solução\n",
    "genero_contar = purchase_file['Sexo'].value_counts()\n",
    "genero_percentual = (genero_contar / player_count) * 100\n",
    "demografia_genero = pd.DataFrame({\"Sexo\" : genero_contar,\n",
    "                                     \"%\" : genero_percentual })\n",
    "\n",
    "demografia_genero = demografia_genero.round(2)\n",
    "demografia_genero [\"%\"] = demografia_genero[\"%\"].map(\"{:,.2f}%\".format)\n"
   ]
  },
  {
   "cell_type": "code",
   "execution_count": 58,
   "metadata": {},
   "outputs": [
    {
     "data": {
      "text/plain": [
       "Masculino                633\n",
       "Feminino                 136\n",
       "Outro / Não Divulgado     11\n",
       "Name: Sexo, dtype: int64"
      ]
     },
     "execution_count": 58,
     "metadata": {},
     "output_type": "execute_result"
    }
   ],
   "source": [
    "genero_contar"
   ]
  },
  {
   "cell_type": "code",
   "execution_count": 59,
   "metadata": {},
   "outputs": [
    {
     "data": {
      "text/plain": [
       "Masculino                110.471204\n",
       "Feminino                  23.734729\n",
       "Outro / Não Divulgado      1.919721\n",
       "Name: Sexo, dtype: float64"
      ]
     },
     "execution_count": 59,
     "metadata": {},
     "output_type": "execute_result"
    }
   ],
   "source": [
    "genero_percentual"
   ]
  },
  {
   "cell_type": "code",
   "execution_count": 60,
   "metadata": {},
   "outputs": [
    {
     "data": {
      "text/html": [
       "<div>\n",
       "<style scoped>\n",
       "    .dataframe tbody tr th:only-of-type {\n",
       "        vertical-align: middle;\n",
       "    }\n",
       "\n",
       "    .dataframe tbody tr th {\n",
       "        vertical-align: top;\n",
       "    }\n",
       "\n",
       "    .dataframe thead th {\n",
       "        text-align: right;\n",
       "    }\n",
       "</style>\n",
       "<table border=\"1\" class=\"dataframe\">\n",
       "  <thead>\n",
       "    <tr style=\"text-align: right;\">\n",
       "      <th></th>\n",
       "      <th>Sexo</th>\n",
       "      <th>%</th>\n",
       "    </tr>\n",
       "  </thead>\n",
       "  <tbody>\n",
       "    <tr>\n",
       "      <th>Masculino</th>\n",
       "      <td>633</td>\n",
       "      <td>110.47%</td>\n",
       "    </tr>\n",
       "    <tr>\n",
       "      <th>Feminino</th>\n",
       "      <td>136</td>\n",
       "      <td>23.73%</td>\n",
       "    </tr>\n",
       "    <tr>\n",
       "      <th>Outro / Não Divulgado</th>\n",
       "      <td>11</td>\n",
       "      <td>1.92%</td>\n",
       "    </tr>\n",
       "  </tbody>\n",
       "</table>\n",
       "</div>"
      ],
      "text/plain": [
       "                       Sexo        %\n",
       "Masculino               633  110.47%\n",
       "Feminino                136   23.73%\n",
       "Outro / Não Divulgado    11    1.92%"
      ]
     },
     "execution_count": 60,
     "metadata": {},
     "output_type": "execute_result"
    }
   ],
   "source": [
    "demografia_genero"
   ]
  },
  {
   "cell_type": "markdown",
   "metadata": {},
   "source": [
    "## Análise de Compras Por Gênero"
   ]
  },
  {
   "cell_type": "code",
   "execution_count": 71,
   "metadata": {},
   "outputs": [],
   "source": [
    "# Implemente aqui sua solução\n",
    "genero_contar = purchase_file.groupby(['Sexo']).sum()['Valor'].rename('Total Vendas')\n",
    "genero_media = purchase_file.groupby(['Sexo']).mean()['Valor'].rename('Preço Medio')\n",
    "genero_compra = purchase_file.groupby(['Sexo']).count()['Valor'].rename('Compras Total')\n",
    "total = genero_contar / demografia_genero['Sexo']\n",
    "\n",
    "# Armazenando o resultado em um Dataframe\n",
    "compras_genero = pd.DataFrame({\"Compras Total\" : genero_compra,\n",
    "                               \"Preço Medio\" : genero_media,\n",
    "                               \"Total Vendas\" : genero_contar,\n",
    "                               \"Total Normalizado\" : total})\n",
    "\n",
    "\n",
    "compras_genero = compras_genero.round(2)\n",
    "compras_genero ['Compras Total'] = compras_genero ['Compras Total'].map(\"${:,.2f}\".format)\n",
    "compras_genero ['Preço Medio'] = compras_genero ['Preço Medio'].map(\"${:,.2f}\".format)\n",
    "compras_genero ['Total Vendas'] = compras_genero ['Total Vendas'].map(\"${:,.2f}\".format)\n",
    "compras_genero ['Total Normalizado'] = compras_genero ['Total Normalizado'].map(\"${:,.2f}\".format)\n"
   ]
  },
  {
   "cell_type": "code",
   "execution_count": 68,
   "metadata": {},
   "outputs": [
    {
     "data": {
      "text/plain": [
       "Sexo\n",
       "Feminino                  382.91\n",
       "Masculino                1867.68\n",
       "Outro / Não Divulgado      35.74\n",
       "Name: Total Vendas, dtype: float64"
      ]
     },
     "execution_count": 68,
     "metadata": {},
     "output_type": "execute_result"
    }
   ],
   "source": [
    "genero_contar"
   ]
  },
  {
   "cell_type": "code",
   "execution_count": 67,
   "metadata": {},
   "outputs": [
    {
     "data": {
      "text/plain": [
       "Sexo\n",
       "Feminino                 2.815515\n",
       "Masculino                2.950521\n",
       "Outro / Não Divulgado    3.249091\n",
       "Name: Preço Medio, dtype: float64"
      ]
     },
     "execution_count": 67,
     "metadata": {},
     "output_type": "execute_result"
    }
   ],
   "source": [
    "genero_media"
   ]
  },
  {
   "cell_type": "code",
   "execution_count": 72,
   "metadata": {},
   "outputs": [
    {
     "data": {
      "text/html": [
       "<div>\n",
       "<style scoped>\n",
       "    .dataframe tbody tr th:only-of-type {\n",
       "        vertical-align: middle;\n",
       "    }\n",
       "\n",
       "    .dataframe tbody tr th {\n",
       "        vertical-align: top;\n",
       "    }\n",
       "\n",
       "    .dataframe thead th {\n",
       "        text-align: right;\n",
       "    }\n",
       "</style>\n",
       "<table border=\"1\" class=\"dataframe\">\n",
       "  <thead>\n",
       "    <tr style=\"text-align: right;\">\n",
       "      <th></th>\n",
       "      <th>Compras Total</th>\n",
       "      <th>Preço Medio</th>\n",
       "      <th>Total Vendas</th>\n",
       "      <th>Total Normalizado</th>\n",
       "    </tr>\n",
       "  </thead>\n",
       "  <tbody>\n",
       "    <tr>\n",
       "      <th>Feminino</th>\n",
       "      <td>$136.00</td>\n",
       "      <td>$2.82</td>\n",
       "      <td>$382.91</td>\n",
       "      <td>$2.82</td>\n",
       "    </tr>\n",
       "    <tr>\n",
       "      <th>Masculino</th>\n",
       "      <td>$633.00</td>\n",
       "      <td>$2.95</td>\n",
       "      <td>$1,867.68</td>\n",
       "      <td>$2.95</td>\n",
       "    </tr>\n",
       "    <tr>\n",
       "      <th>Outro / Não Divulgado</th>\n",
       "      <td>$11.00</td>\n",
       "      <td>$3.25</td>\n",
       "      <td>$35.74</td>\n",
       "      <td>$3.25</td>\n",
       "    </tr>\n",
       "  </tbody>\n",
       "</table>\n",
       "</div>"
      ],
      "text/plain": [
       "                      Compras Total Preço Medio Total Vendas Total Normalizado\n",
       "Feminino                    $136.00       $2.82      $382.91             $2.82\n",
       "Masculino                   $633.00       $2.95    $1,867.68             $2.95\n",
       "Outro / Não Divulgado        $11.00       $3.25       $35.74             $3.25"
      ]
     },
     "execution_count": 72,
     "metadata": {},
     "output_type": "execute_result"
    }
   ],
   "source": [
    "compras_genero"
   ]
  },
  {
   "cell_type": "markdown",
   "metadata": {},
   "source": [
    "## Consumidores Mais Populares (Top 5)"
   ]
  },
  {
   "cell_type": "code",
   "execution_count": 81,
   "metadata": {},
   "outputs": [
    {
     "data": {
      "text/html": [
       "<div>\n",
       "<style scoped>\n",
       "    .dataframe tbody tr th:only-of-type {\n",
       "        vertical-align: middle;\n",
       "    }\n",
       "\n",
       "    .dataframe tbody tr th {\n",
       "        vertical-align: top;\n",
       "    }\n",
       "\n",
       "    .dataframe thead th {\n",
       "        text-align: right;\n",
       "    }\n",
       "</style>\n",
       "<table border=\"1\" class=\"dataframe\">\n",
       "  <thead>\n",
       "    <tr style=\"text-align: right;\">\n",
       "      <th></th>\n",
       "      <th>Total Compras</th>\n",
       "      <th>Media de Compras</th>\n",
       "      <th>Numeros de compras</th>\n",
       "    </tr>\n",
       "    <tr>\n",
       "      <th>Login</th>\n",
       "      <th></th>\n",
       "      <th></th>\n",
       "      <th></th>\n",
       "    </tr>\n",
       "  </thead>\n",
       "  <tbody>\n",
       "    <tr>\n",
       "      <th>Qarwen67</th>\n",
       "      <td>$9.97</td>\n",
       "      <td>$2.49</td>\n",
       "      <td>4</td>\n",
       "    </tr>\n",
       "    <tr>\n",
       "      <th>Sondim43</th>\n",
       "      <td>$9.38</td>\n",
       "      <td>$3.13</td>\n",
       "      <td>3</td>\n",
       "    </tr>\n",
       "    <tr>\n",
       "      <th>Tillyrin30</th>\n",
       "      <td>$9.19</td>\n",
       "      <td>$3.06</td>\n",
       "      <td>3</td>\n",
       "    </tr>\n",
       "    <tr>\n",
       "      <th>Lisistaya47</th>\n",
       "      <td>$9.19</td>\n",
       "      <td>$3.06</td>\n",
       "      <td>3</td>\n",
       "    </tr>\n",
       "    <tr>\n",
       "      <th>Tyisriphos58</th>\n",
       "      <td>$9.18</td>\n",
       "      <td>$4.59</td>\n",
       "      <td>2</td>\n",
       "    </tr>\n",
       "  </tbody>\n",
       "</table>\n",
       "</div>"
      ],
      "text/plain": [
       "             Total Compras Media de Compras  Numeros de compras\n",
       "Login                                                          \n",
       "Qarwen67             $9.97            $2.49                   4\n",
       "Sondim43             $9.38            $3.13                   3\n",
       "Tillyrin30           $9.19            $3.06                   3\n",
       "Lisistaya47          $9.19            $3.06                   3\n",
       "Tyisriphos58         $9.18            $4.59                   2"
      ]
     },
     "execution_count": 81,
     "metadata": {},
     "output_type": "execute_result"
    }
   ],
   "source": [
    "# Implemente aqui sua solução\n",
    "consumidor_total = purchase_file.groupby(['Login']).sum()['Valor'].rename('Total Compras')\n",
    "consumidor_medio = purchase_file.groupby(['Login']).mean()['Valor'].rename('Media de Compras')\n",
    "consumidor_count = purchase_file.groupby(['Login']).count()['Valor'].rename('Numeros de compras')\n",
    "\n",
    "consumidor_top = pd.DataFrame({\"Total Compras\" : consumidor_total,\n",
    "                               \"Media de Compras\" : consumidor_medio,\n",
    "                               \"Numeros de compras\" : consumidor_count})\n",
    "\n",
    "consumidor_top ['Total Compras'] = consumidor_top ['Total Compras'].map(\"${:,.2f}\".format)\n",
    "consumidor_top ['Media de Compras'] = consumidor_top ['Media de Compras'].map(\"${:,.2f}\".format)\n",
    "consumidor_top.sort_values('Total Compras', ascending=False).head(5)"
   ]
  },
  {
   "cell_type": "code",
   "execution_count": 82,
   "metadata": {},
   "outputs": [
    {
     "data": {
      "text/html": [
       "<div>\n",
       "<style scoped>\n",
       "    .dataframe tbody tr th:only-of-type {\n",
       "        vertical-align: middle;\n",
       "    }\n",
       "\n",
       "    .dataframe tbody tr th {\n",
       "        vertical-align: top;\n",
       "    }\n",
       "\n",
       "    .dataframe thead th {\n",
       "        text-align: right;\n",
       "    }\n",
       "</style>\n",
       "<table border=\"1\" class=\"dataframe\">\n",
       "  <thead>\n",
       "    <tr style=\"text-align: right;\">\n",
       "      <th></th>\n",
       "      <th>Total Compras</th>\n",
       "      <th>Media de Compras</th>\n",
       "      <th>Numeros de compras</th>\n",
       "    </tr>\n",
       "    <tr>\n",
       "      <th>Login</th>\n",
       "      <th></th>\n",
       "      <th></th>\n",
       "      <th></th>\n",
       "    </tr>\n",
       "  </thead>\n",
       "  <tbody>\n",
       "    <tr>\n",
       "      <th>Adairialis76</th>\n",
       "      <td>$2.46</td>\n",
       "      <td>$2.46</td>\n",
       "      <td>1</td>\n",
       "    </tr>\n",
       "    <tr>\n",
       "      <th>Aduephos78</th>\n",
       "      <td>$6.70</td>\n",
       "      <td>$2.23</td>\n",
       "      <td>3</td>\n",
       "    </tr>\n",
       "    <tr>\n",
       "      <th>Aeduera68</th>\n",
       "      <td>$5.80</td>\n",
       "      <td>$1.93</td>\n",
       "      <td>3</td>\n",
       "    </tr>\n",
       "    <tr>\n",
       "      <th>Aela49</th>\n",
       "      <td>$2.46</td>\n",
       "      <td>$2.46</td>\n",
       "      <td>1</td>\n",
       "    </tr>\n",
       "    <tr>\n",
       "      <th>Aela59</th>\n",
       "      <td>$1.27</td>\n",
       "      <td>$1.27</td>\n",
       "      <td>1</td>\n",
       "    </tr>\n",
       "    <tr>\n",
       "      <th>...</th>\n",
       "      <td>...</td>\n",
       "      <td>...</td>\n",
       "      <td>...</td>\n",
       "    </tr>\n",
       "    <tr>\n",
       "      <th>Yasurra52</th>\n",
       "      <td>$3.14</td>\n",
       "      <td>$3.14</td>\n",
       "      <td>1</td>\n",
       "    </tr>\n",
       "    <tr>\n",
       "      <th>Yathecal72</th>\n",
       "      <td>$7.77</td>\n",
       "      <td>$3.88</td>\n",
       "      <td>2</td>\n",
       "    </tr>\n",
       "    <tr>\n",
       "      <th>Yathecal82</th>\n",
       "      <td>$2.41</td>\n",
       "      <td>$2.41</td>\n",
       "      <td>1</td>\n",
       "    </tr>\n",
       "    <tr>\n",
       "      <th>Zhisrisu83</th>\n",
       "      <td>$2.46</td>\n",
       "      <td>$1.23</td>\n",
       "      <td>2</td>\n",
       "    </tr>\n",
       "    <tr>\n",
       "      <th>Zontibe81</th>\n",
       "      <td>$3.71</td>\n",
       "      <td>$3.71</td>\n",
       "      <td>1</td>\n",
       "    </tr>\n",
       "  </tbody>\n",
       "</table>\n",
       "<p>573 rows × 3 columns</p>\n",
       "</div>"
      ],
      "text/plain": [
       "             Total Compras Media de Compras  Numeros de compras\n",
       "Login                                                          \n",
       "Adairialis76         $2.46            $2.46                   1\n",
       "Aduephos78           $6.70            $2.23                   3\n",
       "Aeduera68            $5.80            $1.93                   3\n",
       "Aela49               $2.46            $2.46                   1\n",
       "Aela59               $1.27            $1.27                   1\n",
       "...                    ...              ...                 ...\n",
       "Yasurra52            $3.14            $3.14                   1\n",
       "Yathecal72           $7.77            $3.88                   2\n",
       "Yathecal82           $2.41            $2.41                   1\n",
       "Zhisrisu83           $2.46            $1.23                   2\n",
       "Zontibe81            $3.71            $3.71                   1\n",
       "\n",
       "[573 rows x 3 columns]"
      ]
     },
     "execution_count": 82,
     "metadata": {},
     "output_type": "execute_result"
    }
   ],
   "source": [
    "consumidor_top"
   ]
  },
  {
   "cell_type": "markdown",
   "metadata": {},
   "source": [
    "## Itens Mais Populares"
   ]
  },
  {
   "cell_type": "code",
   "execution_count": 85,
   "metadata": {},
   "outputs": [
    {
     "data": {
      "text/html": [
       "<div>\n",
       "<style scoped>\n",
       "    .dataframe tbody tr th:only-of-type {\n",
       "        vertical-align: middle;\n",
       "    }\n",
       "\n",
       "    .dataframe tbody tr th {\n",
       "        vertical-align: top;\n",
       "    }\n",
       "\n",
       "    .dataframe thead th {\n",
       "        text-align: right;\n",
       "    }\n",
       "</style>\n",
       "<table border=\"1\" class=\"dataframe\">\n",
       "  <thead>\n",
       "    <tr style=\"text-align: right;\">\n",
       "      <th></th>\n",
       "      <th>Total Compras</th>\n",
       "      <th>Media de Compras</th>\n",
       "      <th>Numeros de compras</th>\n",
       "    </tr>\n",
       "    <tr>\n",
       "      <th>Nome do Item</th>\n",
       "      <th></th>\n",
       "      <th></th>\n",
       "      <th></th>\n",
       "    </tr>\n",
       "  </thead>\n",
       "  <tbody>\n",
       "    <tr>\n",
       "      <th>Final Critic</th>\n",
       "      <td>$38.60</td>\n",
       "      <td>$2.76</td>\n",
       "      <td>14</td>\n",
       "    </tr>\n",
       "    <tr>\n",
       "      <th>Arcane Gem</th>\n",
       "      <td>$24.53</td>\n",
       "      <td>$2.23</td>\n",
       "      <td>11</td>\n",
       "    </tr>\n",
       "    <tr>\n",
       "      <th>Betrayal, Whisper of Grieving Widows</th>\n",
       "      <td>$25.85</td>\n",
       "      <td>$2.35</td>\n",
       "      <td>11</td>\n",
       "    </tr>\n",
       "    <tr>\n",
       "      <th>Stormcaller</th>\n",
       "      <td>$34.65</td>\n",
       "      <td>$3.47</td>\n",
       "      <td>10</td>\n",
       "    </tr>\n",
       "    <tr>\n",
       "      <th>Woeful Adamantite Claymore</th>\n",
       "      <td>$11.16</td>\n",
       "      <td>$1.24</td>\n",
       "      <td>9</td>\n",
       "    </tr>\n",
       "  </tbody>\n",
       "</table>\n",
       "</div>"
      ],
      "text/plain": [
       "                                     Total Compras Media de Compras  \\\n",
       "Nome do Item                                                          \n",
       "Final Critic                                $38.60            $2.76   \n",
       "Arcane Gem                                  $24.53            $2.23   \n",
       "Betrayal, Whisper of Grieving Widows        $25.85            $2.35   \n",
       "Stormcaller                                 $34.65            $3.47   \n",
       "Woeful Adamantite Claymore                  $11.16            $1.24   \n",
       "\n",
       "                                      Numeros de compras  \n",
       "Nome do Item                                              \n",
       "Final Critic                                          14  \n",
       "Arcane Gem                                            11  \n",
       "Betrayal, Whisper of Grieving Widows                  11  \n",
       "Stormcaller                                           10  \n",
       "Woeful Adamantite Claymore                             9  "
      ]
     },
     "execution_count": 85,
     "metadata": {},
     "output_type": "execute_result"
    }
   ],
   "source": [
    "# Implemente aqui sua solução\n",
    "Item_popular_total = purchase_file.groupby(['Nome do Item']).sum()['Valor'].rename('Total Compras')\n",
    "Item_popular_media = purchase_file.groupby(['Nome do Item']).mean()['Valor'].rename('Media de Compras')\n",
    "Item_popular_count = purchase_file.groupby(['Nome do Item']).count()['Valor'].rename('Numeros de compras')\n",
    "\n",
    "item_popular = pd.DataFrame({\"Total Compras\" : Item_popular_total,\n",
    "                               \"Media de Compras\" : Item_popular_media,\n",
    "                               \"Numeros de compras\" : Item_popular_count})\n",
    "\n",
    "item_popular ['Total Compras'] = item_popular ['Total Compras'].map(\"${:,.2f}\".format)\n",
    "item_popular ['Media de Compras'] = item_popular ['Media de Compras'].map(\"${:,.2f}\".format)\n",
    "item_popular.sort_values('Numeros de compras', ascending=False).head(5)"
   ]
  },
  {
   "cell_type": "markdown",
   "metadata": {},
   "source": [
    "## Itens Mais Lucrativos"
   ]
  },
  {
   "cell_type": "code",
   "execution_count": 116,
   "metadata": {},
   "outputs": [
    {
     "data": {
      "text/html": [
       "<div>\n",
       "<style scoped>\n",
       "    .dataframe tbody tr th:only-of-type {\n",
       "        vertical-align: middle;\n",
       "    }\n",
       "\n",
       "    .dataframe tbody tr th {\n",
       "        vertical-align: top;\n",
       "    }\n",
       "\n",
       "    .dataframe thead th {\n",
       "        text-align: right;\n",
       "    }\n",
       "</style>\n",
       "<table border=\"1\" class=\"dataframe\">\n",
       "  <thead>\n",
       "    <tr style=\"text-align: right;\">\n",
       "      <th></th>\n",
       "      <th>Total Compras</th>\n",
       "      <th>Media de Compras</th>\n",
       "      <th>Numeros de compras</th>\n",
       "    </tr>\n",
       "    <tr>\n",
       "      <th>Nome do Item</th>\n",
       "      <th></th>\n",
       "      <th></th>\n",
       "      <th></th>\n",
       "    </tr>\n",
       "  </thead>\n",
       "  <tbody>\n",
       "    <tr>\n",
       "      <th>Final Critic</th>\n",
       "      <td>$38.60</td>\n",
       "      <td>$2.76</td>\n",
       "      <td>14</td>\n",
       "    </tr>\n",
       "    <tr>\n",
       "      <th>Retribution Axe</th>\n",
       "      <td>$37.26</td>\n",
       "      <td>$4.14</td>\n",
       "      <td>9</td>\n",
       "    </tr>\n",
       "    <tr>\n",
       "      <th>Stormcaller</th>\n",
       "      <td>$34.65</td>\n",
       "      <td>$3.47</td>\n",
       "      <td>10</td>\n",
       "    </tr>\n",
       "    <tr>\n",
       "      <th>Spectral Diamond Doomblade</th>\n",
       "      <td>$29.75</td>\n",
       "      <td>$4.25</td>\n",
       "      <td>7</td>\n",
       "    </tr>\n",
       "    <tr>\n",
       "      <th>Orenmir</th>\n",
       "      <td>$29.70</td>\n",
       "      <td>$4.95</td>\n",
       "      <td>6</td>\n",
       "    </tr>\n",
       "  </tbody>\n",
       "</table>\n",
       "</div>"
      ],
      "text/plain": [
       "                           Total Compras Media de Compras  Numeros de compras\n",
       "Nome do Item                                                                 \n",
       "Final Critic                      $38.60            $2.76                  14\n",
       "Retribution Axe                   $37.26            $4.14                   9\n",
       "Stormcaller                       $34.65            $3.47                  10\n",
       "Spectral Diamond Doomblade        $29.75            $4.25                   7\n",
       "Orenmir                           $29.70            $4.95                   6"
      ]
     },
     "metadata": {},
     "output_type": "display_data"
    }
   ],
   "source": [
    "# Implemente aqui sua solução\n",
    "Item_lucrativos_total = purchase_file.groupby(['Nome do Item']).sum()['Valor'].rename('Total Compras')\n",
    "Item_lucrativos_media = purchase_file.groupby(['Nome do Item']).mean()['Valor'].rename('Media de Compras')\n",
    "Item_lucrativos_count = purchase_file.groupby(['Nome do Item']).count()['Valor'].rename('Numeros de compras')\n",
    "\n",
    "Item_lucrativos = pd.DataFrame({\"Total Compras\" : Item_lucrativos_total,\n",
    "                               \"Media de Compras\" : Item_lucrativos_media,\n",
    "                               \"Numeros de compras\" : Item_lucrativos_count})\n",
    "\n",
    "Item_lucrativos ['Total'] = Item_lucrativos ['Total Compras']\n",
    "Item_lucrativos ['Total Compras'] = Item_lucrativos ['Total Compras'].map(\"${:,.2f}\".format)\n",
    "Item_lucrativos ['Media de Compras'] = Item_lucrativos ['Media de Compras'].map(\"${:,.2f}\".format)\n",
    "\n",
    "display(Item_lucrativos.sort_values(\"Total\", ascending=False).head(5)[ \\\n",
    "    ['Total Compras','Media de Compras','Numeros de compras']])"
   ]
  },
  {
   "cell_type": "markdown",
   "metadata": {
    "collapsed": true
   },
   "source": [
    "## Fim"
   ]
  },
  {
   "cell_type": "markdown",
   "metadata": {
    "collapsed": true
   },
   "source": [
    "\n",
    "### Obrigado\n",
    "\n",
    "### Visite o Blog da Data Science Academy - <a href=\"http://blog.dsacademy.com.br\">Blog DSA</a>\n"
   ]
  }
 ],
 "metadata": {
  "kernelspec": {
   "display_name": "Python 3 (ipykernel)",
   "language": "python",
   "name": "python3"
  },
  "language_info": {
   "codemirror_mode": {
    "name": "ipython",
    "version": 3
   },
   "file_extension": ".py",
   "mimetype": "text/x-python",
   "name": "python",
   "nbconvert_exporter": "python",
   "pygments_lexer": "ipython3",
   "version": "3.9.7"
  }
 },
 "nbformat": 4,
 "nbformat_minor": 2
}
